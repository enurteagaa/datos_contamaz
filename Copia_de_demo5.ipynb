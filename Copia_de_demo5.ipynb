{
  "nbformat": 4,
  "nbformat_minor": 0,
  "metadata": {
    "colab": {
      "provenance": [],
      "authorship_tag": "ABX9TyNV2hhoFVKc5SugztUlD4HZ",
      "include_colab_link": true
    },
    "kernelspec": {
      "name": "python3",
      "display_name": "Python 3"
    },
    "language_info": {
      "name": "python"
    },
    "widgets": {
      "application/vnd.jupyter.widget-state+json": {
        "557060549fe348008fa5d62e743f791d": {
          "model_module": "@jupyter-widgets/controls",
          "model_name": "DropdownModel",
          "model_module_version": "1.5.0",
          "state": {
            "_dom_classes": [],
            "_model_module": "@jupyter-widgets/controls",
            "_model_module_version": "1.5.0",
            "_model_name": "DropdownModel",
            "_options_labels": [
              "Hoja1"
            ],
            "_view_count": null,
            "_view_module": "@jupyter-widgets/controls",
            "_view_module_version": "1.5.0",
            "_view_name": "DropdownView",
            "description": "Libreta:",
            "description_tooltip": null,
            "disabled": false,
            "index": 0,
            "layout": "IPY_MODEL_80a28e93d37c4dd0b74db76a616acad4",
            "style": "IPY_MODEL_7ce7d671ec9246c987cd9783c7dfd24f"
          }
        },
        "80a28e93d37c4dd0b74db76a616acad4": {
          "model_module": "@jupyter-widgets/base",
          "model_name": "LayoutModel",
          "model_module_version": "1.2.0",
          "state": {
            "_model_module": "@jupyter-widgets/base",
            "_model_module_version": "1.2.0",
            "_model_name": "LayoutModel",
            "_view_count": null,
            "_view_module": "@jupyter-widgets/base",
            "_view_module_version": "1.2.0",
            "_view_name": "LayoutView",
            "align_content": null,
            "align_items": null,
            "align_self": null,
            "border": null,
            "bottom": null,
            "display": null,
            "flex": null,
            "flex_flow": null,
            "grid_area": null,
            "grid_auto_columns": null,
            "grid_auto_flow": null,
            "grid_auto_rows": null,
            "grid_column": null,
            "grid_gap": null,
            "grid_row": null,
            "grid_template_areas": null,
            "grid_template_columns": null,
            "grid_template_rows": null,
            "height": null,
            "justify_content": null,
            "justify_items": null,
            "left": null,
            "margin": null,
            "max_height": null,
            "max_width": null,
            "min_height": null,
            "min_width": null,
            "object_fit": null,
            "object_position": null,
            "order": null,
            "overflow": null,
            "overflow_x": null,
            "overflow_y": null,
            "padding": null,
            "right": null,
            "top": null,
            "visibility": null,
            "width": null
          }
        },
        "7ce7d671ec9246c987cd9783c7dfd24f": {
          "model_module": "@jupyter-widgets/controls",
          "model_name": "DescriptionStyleModel",
          "model_module_version": "1.5.0",
          "state": {
            "_model_module": "@jupyter-widgets/controls",
            "_model_module_version": "1.5.0",
            "_model_name": "DescriptionStyleModel",
            "_view_count": null,
            "_view_module": "@jupyter-widgets/base",
            "_view_module_version": "1.2.0",
            "_view_name": "StyleView",
            "description_width": "initial"
          }
        },
        "3587fc7e2d6e497cb0198e47d96c0a7c": {
          "model_module": "@jupyter-widgets/controls",
          "model_name": "DropdownModel",
          "model_module_version": "1.5.0",
          "state": {
            "_dom_classes": [],
            "_model_module": "@jupyter-widgets/controls",
            "_model_module_version": "1.5.0",
            "_model_name": "DropdownModel",
            "_options_labels": [
              "Artes",
              "Ciencias",
              "Economía",
              "Gastronomía",
              "Genealogía",
              "Geografía",
              "Historia",
              "Legislación laboral",
              "Literatura",
              "Medicina",
              "Moneda",
              "Noticias",
              "Opinión",
              "Producción",
              "Sociales"
            ],
            "_view_count": null,
            "_view_module": "@jupyter-widgets/controls",
            "_view_module_version": "1.5.0",
            "_view_name": "DropdownView",
            "description": "Tema:",
            "description_tooltip": null,
            "disabled": false,
            "index": 12,
            "layout": "IPY_MODEL_51fe041550644327bdac7512da352e6f",
            "style": "IPY_MODEL_a5f5f598d4ca4b11b8f045433eecbeb8"
          }
        },
        "51fe041550644327bdac7512da352e6f": {
          "model_module": "@jupyter-widgets/base",
          "model_name": "LayoutModel",
          "model_module_version": "1.2.0",
          "state": {
            "_model_module": "@jupyter-widgets/base",
            "_model_module_version": "1.2.0",
            "_model_name": "LayoutModel",
            "_view_count": null,
            "_view_module": "@jupyter-widgets/base",
            "_view_module_version": "1.2.0",
            "_view_name": "LayoutView",
            "align_content": null,
            "align_items": null,
            "align_self": null,
            "border": null,
            "bottom": null,
            "display": null,
            "flex": null,
            "flex_flow": null,
            "grid_area": null,
            "grid_auto_columns": null,
            "grid_auto_flow": null,
            "grid_auto_rows": null,
            "grid_column": null,
            "grid_gap": null,
            "grid_row": null,
            "grid_template_areas": null,
            "grid_template_columns": null,
            "grid_template_rows": null,
            "height": null,
            "justify_content": null,
            "justify_items": null,
            "left": null,
            "margin": null,
            "max_height": null,
            "max_width": null,
            "min_height": null,
            "min_width": null,
            "object_fit": null,
            "object_position": null,
            "order": null,
            "overflow": null,
            "overflow_x": null,
            "overflow_y": null,
            "padding": null,
            "right": null,
            "top": null,
            "visibility": null,
            "width": null
          }
        },
        "a5f5f598d4ca4b11b8f045433eecbeb8": {
          "model_module": "@jupyter-widgets/controls",
          "model_name": "DescriptionStyleModel",
          "model_module_version": "1.5.0",
          "state": {
            "_model_module": "@jupyter-widgets/controls",
            "_model_module_version": "1.5.0",
            "_model_name": "DescriptionStyleModel",
            "_view_count": null,
            "_view_module": "@jupyter-widgets/base",
            "_view_module_version": "1.2.0",
            "_view_name": "StyleView",
            "description_width": "initial"
          }
        },
        "842e8a332a164573b0813265144b2d23": {
          "model_module": "@jupyter-widgets/controls",
          "model_name": "ButtonModel",
          "model_module_version": "1.5.0",
          "state": {
            "_dom_classes": [],
            "_model_module": "@jupyter-widgets/controls",
            "_model_module_version": "1.5.0",
            "_model_name": "ButtonModel",
            "_view_count": null,
            "_view_module": "@jupyter-widgets/controls",
            "_view_module_version": "1.5.0",
            "_view_name": "ButtonView",
            "button_style": "",
            "description": "Mostrar Resultados",
            "disabled": false,
            "icon": "",
            "layout": "IPY_MODEL_a0bd0b78fec643259ceb3e26f2be1929",
            "style": "IPY_MODEL_481d2083ef8c4d78a872e048c11de861",
            "tooltip": ""
          }
        },
        "a0bd0b78fec643259ceb3e26f2be1929": {
          "model_module": "@jupyter-widgets/base",
          "model_name": "LayoutModel",
          "model_module_version": "1.2.0",
          "state": {
            "_model_module": "@jupyter-widgets/base",
            "_model_module_version": "1.2.0",
            "_model_name": "LayoutModel",
            "_view_count": null,
            "_view_module": "@jupyter-widgets/base",
            "_view_module_version": "1.2.0",
            "_view_name": "LayoutView",
            "align_content": null,
            "align_items": null,
            "align_self": null,
            "border": null,
            "bottom": null,
            "display": null,
            "flex": null,
            "flex_flow": null,
            "grid_area": null,
            "grid_auto_columns": null,
            "grid_auto_flow": null,
            "grid_auto_rows": null,
            "grid_column": null,
            "grid_gap": null,
            "grid_row": null,
            "grid_template_areas": null,
            "grid_template_columns": null,
            "grid_template_rows": null,
            "height": null,
            "justify_content": null,
            "justify_items": null,
            "left": null,
            "margin": null,
            "max_height": null,
            "max_width": null,
            "min_height": null,
            "min_width": null,
            "object_fit": null,
            "object_position": null,
            "order": null,
            "overflow": null,
            "overflow_x": null,
            "overflow_y": null,
            "padding": null,
            "right": null,
            "top": null,
            "visibility": null,
            "width": null
          }
        },
        "481d2083ef8c4d78a872e048c11de861": {
          "model_module": "@jupyter-widgets/controls",
          "model_name": "ButtonStyleModel",
          "model_module_version": "1.5.0",
          "state": {
            "_model_module": "@jupyter-widgets/controls",
            "_model_module_version": "1.5.0",
            "_model_name": "ButtonStyleModel",
            "_view_count": null,
            "_view_module": "@jupyter-widgets/base",
            "_view_module_version": "1.2.0",
            "_view_name": "StyleView",
            "button_color": null,
            "font_weight": ""
          }
        },
        "18dd2d9464974b01b30b9867dba56278": {
          "model_module": "@jupyter-widgets/output",
          "model_name": "OutputModel",
          "model_module_version": "1.0.0",
          "state": {
            "_dom_classes": [],
            "_model_module": "@jupyter-widgets/output",
            "_model_module_version": "1.0.0",
            "_model_name": "OutputModel",
            "_view_count": null,
            "_view_module": "@jupyter-widgets/output",
            "_view_module_version": "1.0.0",
            "_view_name": "OutputView",
            "layout": "IPY_MODEL_1424303f90914cba82ca3dca25ca8064",
            "msg_id": "",
            "outputs": [
              {
                "output_type": "display_data",
                "data": {
                  "text/plain": "     LIBRETA     TEMA                                             TITULO  \\\n74        49  Opinión  Nombramientos y cargos: Administrador de la ad...   \n83        49  Opinión  Representación parlamentaria. Opinión crítica ...   \n85        49  Opinión  Londres. El mayor puerto del mundo. Obra que p...   \n100       51  Opinión        Nota sobre la muerte de Lord Charles Cawdor   \n103       51  Opinión           Nota sobre la muerte de Remigio Morales    \n105       51  Opinión                 Nota nacimiento Luis Felipe Morey    \n106       51  Opinión                       Nota inauguración telégrafo    \n118       51  Opinión  En Alemania hay más dinero de lo que se cree e...   \n119       51  Opinión               Los Ladrones de Gloria Peary y Book    \n123       51  Opinión                          Gallinas negras Orpinton    \n125       51  Opinión                                      El Gran Buda    \n126       51  Opinión                           ¿Hay esclavos en China?    \n127       51  Opinión                 Las testas no coronadas en EE. UU.   \n128       51  Opinión                                   Los Acardnought    \n131       51  Opinión              Excemo. señor - Carta Torre González    \n132       51  Opinión                                 Obedecer o mandar    \n133       51  Opinión                           La historia de mi madre    \n135       51  Opinión  Casamiento del Príncipe Víctor Napoleón Bonapa...   \n136       51  Opinión  Texto de El Loreto comercial sobre el propio C...   \n137       51  Opinión  La Cámara de Comercio de Quito y sus internos ...   \n138       51  Opinión                             El Heraldo de Iquitos    \n139       51  Opinión                 Lavaderos de Oro del Alto Marañón    \n142       51  Opinión                              Loreto Independiente    \n145       51  Opinión                                     Libros Nuevos    \n148       52  Opinión  Pensamientos. Americo Vespucio, Universidad Me...   \n\n     PAGINA INICIO  PAGINA FIN  PERSONAJES MENCIONADOS LUGARES MENCIONADOS  \n74               3         NaN                     NaN                 NaN  \n83              37        45.0                     NaN                 NaN  \n85              51        54.0                     NaN                 NaN  \n100              2         NaN                     NaN                 NaN  \n103              2         NaN                     NaN                 NaN  \n105              3         NaN                     NaN                 NaN  \n106              3         NaN                     NaN                 NaN  \n118             37        45.0                     NaN                 NaN  \n119             45        53.0                     NaN                 NaN  \n123            109         NaN                     NaN                 NaN  \n125            110         NaN                     NaN                 NaN  \n126            111         NaN                     NaN                 NaN  \n127            111       112.0                     NaN                 NaN  \n128            113         NaN                     NaN                 NaN  \n131            119       122.0                     NaN                 NaN  \n132            122       125.0                     NaN                 NaN  \n133            126       169.0                     NaN                 NaN  \n135            185       200.0                     NaN                 NaN  \n136            200       201.0                     NaN                 NaN  \n137            202       207.0                     NaN                 NaN  \n138            208       213.0                     NaN                 NaN  \n139            214       251.0                     NaN                 NaN  \n142            254       256.0                     NaN                 NaN  \n145            261         NaN                     NaN                 NaN  \n148              1         3.0                     NaN                 NaN  ",
                  "text/html": "\n  <div id=\"df-574f885f-bb99-48e4-a1cd-30ae775004ec\" class=\"colab-df-container\">\n    <div>\n<style scoped>\n    .dataframe tbody tr th:only-of-type {\n        vertical-align: middle;\n    }\n\n    .dataframe tbody tr th {\n        vertical-align: top;\n    }\n\n    .dataframe thead th {\n        text-align: right;\n    }\n</style>\n<table border=\"1\" class=\"dataframe\">\n  <thead>\n    <tr style=\"text-align: right;\">\n      <th></th>\n      <th>LIBRETA</th>\n      <th>TEMA</th>\n      <th>TITULO</th>\n      <th>PAGINA INICIO</th>\n      <th>PAGINA FIN</th>\n      <th>PERSONAJES MENCIONADOS</th>\n      <th>LUGARES MENCIONADOS</th>\n    </tr>\n  </thead>\n  <tbody>\n    <tr>\n      <th>74</th>\n      <td>49</td>\n      <td>Opinión</td>\n      <td>Nombramientos y cargos: Administrador de la ad...</td>\n      <td>3</td>\n      <td>NaN</td>\n      <td>NaN</td>\n      <td>NaN</td>\n    </tr>\n    <tr>\n      <th>83</th>\n      <td>49</td>\n      <td>Opinión</td>\n      <td>Representación parlamentaria. Opinión crítica ...</td>\n      <td>37</td>\n      <td>45.0</td>\n      <td>NaN</td>\n      <td>NaN</td>\n    </tr>\n    <tr>\n      <th>85</th>\n      <td>49</td>\n      <td>Opinión</td>\n      <td>Londres. El mayor puerto del mundo. Obra que p...</td>\n      <td>51</td>\n      <td>54.0</td>\n      <td>NaN</td>\n      <td>NaN</td>\n    </tr>\n    <tr>\n      <th>100</th>\n      <td>51</td>\n      <td>Opinión</td>\n      <td>Nota sobre la muerte de Lord Charles Cawdor</td>\n      <td>2</td>\n      <td>NaN</td>\n      <td>NaN</td>\n      <td>NaN</td>\n    </tr>\n    <tr>\n      <th>103</th>\n      <td>51</td>\n      <td>Opinión</td>\n      <td>Nota sobre la muerte de Remigio Morales</td>\n      <td>2</td>\n      <td>NaN</td>\n      <td>NaN</td>\n      <td>NaN</td>\n    </tr>\n    <tr>\n      <th>105</th>\n      <td>51</td>\n      <td>Opinión</td>\n      <td>Nota nacimiento Luis Felipe Morey</td>\n      <td>3</td>\n      <td>NaN</td>\n      <td>NaN</td>\n      <td>NaN</td>\n    </tr>\n    <tr>\n      <th>106</th>\n      <td>51</td>\n      <td>Opinión</td>\n      <td>Nota inauguración telégrafo</td>\n      <td>3</td>\n      <td>NaN</td>\n      <td>NaN</td>\n      <td>NaN</td>\n    </tr>\n    <tr>\n      <th>118</th>\n      <td>51</td>\n      <td>Opinión</td>\n      <td>En Alemania hay más dinero de lo que se cree e...</td>\n      <td>37</td>\n      <td>45.0</td>\n      <td>NaN</td>\n      <td>NaN</td>\n    </tr>\n    <tr>\n      <th>119</th>\n      <td>51</td>\n      <td>Opinión</td>\n      <td>Los Ladrones de Gloria Peary y Book</td>\n      <td>45</td>\n      <td>53.0</td>\n      <td>NaN</td>\n      <td>NaN</td>\n    </tr>\n    <tr>\n      <th>123</th>\n      <td>51</td>\n      <td>Opinión</td>\n      <td>Gallinas negras Orpinton</td>\n      <td>109</td>\n      <td>NaN</td>\n      <td>NaN</td>\n      <td>NaN</td>\n    </tr>\n    <tr>\n      <th>125</th>\n      <td>51</td>\n      <td>Opinión</td>\n      <td>El Gran Buda</td>\n      <td>110</td>\n      <td>NaN</td>\n      <td>NaN</td>\n      <td>NaN</td>\n    </tr>\n    <tr>\n      <th>126</th>\n      <td>51</td>\n      <td>Opinión</td>\n      <td>¿Hay esclavos en China?</td>\n      <td>111</td>\n      <td>NaN</td>\n      <td>NaN</td>\n      <td>NaN</td>\n    </tr>\n    <tr>\n      <th>127</th>\n      <td>51</td>\n      <td>Opinión</td>\n      <td>Las testas no coronadas en EE. UU.</td>\n      <td>111</td>\n      <td>112.0</td>\n      <td>NaN</td>\n      <td>NaN</td>\n    </tr>\n    <tr>\n      <th>128</th>\n      <td>51</td>\n      <td>Opinión</td>\n      <td>Los Acardnought</td>\n      <td>113</td>\n      <td>NaN</td>\n      <td>NaN</td>\n      <td>NaN</td>\n    </tr>\n    <tr>\n      <th>131</th>\n      <td>51</td>\n      <td>Opinión</td>\n      <td>Excemo. señor - Carta Torre González</td>\n      <td>119</td>\n      <td>122.0</td>\n      <td>NaN</td>\n      <td>NaN</td>\n    </tr>\n    <tr>\n      <th>132</th>\n      <td>51</td>\n      <td>Opinión</td>\n      <td>Obedecer o mandar</td>\n      <td>122</td>\n      <td>125.0</td>\n      <td>NaN</td>\n      <td>NaN</td>\n    </tr>\n    <tr>\n      <th>133</th>\n      <td>51</td>\n      <td>Opinión</td>\n      <td>La historia de mi madre</td>\n      <td>126</td>\n      <td>169.0</td>\n      <td>NaN</td>\n      <td>NaN</td>\n    </tr>\n    <tr>\n      <th>135</th>\n      <td>51</td>\n      <td>Opinión</td>\n      <td>Casamiento del Príncipe Víctor Napoleón Bonapa...</td>\n      <td>185</td>\n      <td>200.0</td>\n      <td>NaN</td>\n      <td>NaN</td>\n    </tr>\n    <tr>\n      <th>136</th>\n      <td>51</td>\n      <td>Opinión</td>\n      <td>Texto de El Loreto comercial sobre el propio C...</td>\n      <td>200</td>\n      <td>201.0</td>\n      <td>NaN</td>\n      <td>NaN</td>\n    </tr>\n    <tr>\n      <th>137</th>\n      <td>51</td>\n      <td>Opinión</td>\n      <td>La Cámara de Comercio de Quito y sus internos ...</td>\n      <td>202</td>\n      <td>207.0</td>\n      <td>NaN</td>\n      <td>NaN</td>\n    </tr>\n    <tr>\n      <th>138</th>\n      <td>51</td>\n      <td>Opinión</td>\n      <td>El Heraldo de Iquitos</td>\n      <td>208</td>\n      <td>213.0</td>\n      <td>NaN</td>\n      <td>NaN</td>\n    </tr>\n    <tr>\n      <th>139</th>\n      <td>51</td>\n      <td>Opinión</td>\n      <td>Lavaderos de Oro del Alto Marañón</td>\n      <td>214</td>\n      <td>251.0</td>\n      <td>NaN</td>\n      <td>NaN</td>\n    </tr>\n    <tr>\n      <th>142</th>\n      <td>51</td>\n      <td>Opinión</td>\n      <td>Loreto Independiente</td>\n      <td>254</td>\n      <td>256.0</td>\n      <td>NaN</td>\n      <td>NaN</td>\n    </tr>\n    <tr>\n      <th>145</th>\n      <td>51</td>\n      <td>Opinión</td>\n      <td>Libros Nuevos</td>\n      <td>261</td>\n      <td>NaN</td>\n      <td>NaN</td>\n      <td>NaN</td>\n    </tr>\n    <tr>\n      <th>148</th>\n      <td>52</td>\n      <td>Opinión</td>\n      <td>Pensamientos. Americo Vespucio, Universidad Me...</td>\n      <td>1</td>\n      <td>3.0</td>\n      <td>NaN</td>\n      <td>NaN</td>\n    </tr>\n  </tbody>\n</table>\n</div>\n    <div class=\"colab-df-buttons\">\n\n  <div class=\"colab-df-container\">\n    <button class=\"colab-df-convert\" onclick=\"convertToInteractive('df-574f885f-bb99-48e4-a1cd-30ae775004ec')\"\n            title=\"Convert this dataframe to an interactive table.\"\n            style=\"display:none;\">\n\n  <svg xmlns=\"http://www.w3.org/2000/svg\" height=\"24px\" viewBox=\"0 -960 960 960\">\n    <path d=\"M120-120v-720h720v720H120Zm60-500h600v-160H180v160Zm220 220h160v-160H400v160Zm0 220h160v-160H400v160ZM180-400h160v-160H180v160Zm440 0h160v-160H620v160ZM180-180h160v-160H180v160Zm440 0h160v-160H620v160Z\"/>\n  </svg>\n    </button>\n\n  <style>\n    .colab-df-container {\n      display:flex;\n      gap: 12px;\n    }\n\n    .colab-df-convert {\n      background-color: #E8F0FE;\n      border: none;\n      border-radius: 50%;\n      cursor: pointer;\n      display: none;\n      fill: #1967D2;\n      height: 32px;\n      padding: 0 0 0 0;\n      width: 32px;\n    }\n\n    .colab-df-convert:hover {\n      background-color: #E2EBFA;\n      box-shadow: 0px 1px 2px rgba(60, 64, 67, 0.3), 0px 1px 3px 1px rgba(60, 64, 67, 0.15);\n      fill: #174EA6;\n    }\n\n    .colab-df-buttons div {\n      margin-bottom: 4px;\n    }\n\n    [theme=dark] .colab-df-convert {\n      background-color: #3B4455;\n      fill: #D2E3FC;\n    }\n\n    [theme=dark] .colab-df-convert:hover {\n      background-color: #434B5C;\n      box-shadow: 0px 1px 3px 1px rgba(0, 0, 0, 0.15);\n      filter: drop-shadow(0px 1px 2px rgba(0, 0, 0, 0.3));\n      fill: #FFFFFF;\n    }\n  </style>\n\n    <script>\n      const buttonEl =\n        document.querySelector('#df-574f885f-bb99-48e4-a1cd-30ae775004ec button.colab-df-convert');\n      buttonEl.style.display =\n        google.colab.kernel.accessAllowed ? 'block' : 'none';\n\n      async function convertToInteractive(key) {\n        const element = document.querySelector('#df-574f885f-bb99-48e4-a1cd-30ae775004ec');\n        const dataTable =\n          await google.colab.kernel.invokeFunction('convertToInteractive',\n                                                    [key], {});\n        if (!dataTable) return;\n\n        const docLinkHtml = 'Like what you see? Visit the ' +\n          '<a target=\"_blank\" href=https://colab.research.google.com/notebooks/data_table.ipynb>data table notebook</a>'\n          + ' to learn more about interactive tables.';\n        element.innerHTML = '';\n        dataTable['output_type'] = 'display_data';\n        await google.colab.output.renderOutput(dataTable, element);\n        const docLink = document.createElement('div');\n        docLink.innerHTML = docLinkHtml;\n        element.appendChild(docLink);\n      }\n    </script>\n  </div>\n\n\n<div id=\"df-3fdb097a-702c-4a3a-b790-6b5c2c0e6321\">\n  <button class=\"colab-df-quickchart\" onclick=\"quickchart('df-3fdb097a-702c-4a3a-b790-6b5c2c0e6321')\"\n            title=\"Suggest charts\"\n            style=\"display:none;\">\n\n<svg xmlns=\"http://www.w3.org/2000/svg\" height=\"24px\"viewBox=\"0 0 24 24\"\n     width=\"24px\">\n    <g>\n        <path d=\"M19 3H5c-1.1 0-2 .9-2 2v14c0 1.1.9 2 2 2h14c1.1 0 2-.9 2-2V5c0-1.1-.9-2-2-2zM9 17H7v-7h2v7zm4 0h-2V7h2v10zm4 0h-2v-4h2v4z\"/>\n    </g>\n</svg>\n  </button>\n\n<style>\n  .colab-df-quickchart {\n      --bg-color: #E8F0FE;\n      --fill-color: #1967D2;\n      --hover-bg-color: #E2EBFA;\n      --hover-fill-color: #174EA6;\n      --disabled-fill-color: #AAA;\n      --disabled-bg-color: #DDD;\n  }\n\n  [theme=dark] .colab-df-quickchart {\n      --bg-color: #3B4455;\n      --fill-color: #D2E3FC;\n      --hover-bg-color: #434B5C;\n      --hover-fill-color: #FFFFFF;\n      --disabled-bg-color: #3B4455;\n      --disabled-fill-color: #666;\n  }\n\n  .colab-df-quickchart {\n    background-color: var(--bg-color);\n    border: none;\n    border-radius: 50%;\n    cursor: pointer;\n    display: none;\n    fill: var(--fill-color);\n    height: 32px;\n    padding: 0;\n    width: 32px;\n  }\n\n  .colab-df-quickchart:hover {\n    background-color: var(--hover-bg-color);\n    box-shadow: 0 1px 2px rgba(60, 64, 67, 0.3), 0 1px 3px 1px rgba(60, 64, 67, 0.15);\n    fill: var(--button-hover-fill-color);\n  }\n\n  .colab-df-quickchart-complete:disabled,\n  .colab-df-quickchart-complete:disabled:hover {\n    background-color: var(--disabled-bg-color);\n    fill: var(--disabled-fill-color);\n    box-shadow: none;\n  }\n\n  .colab-df-spinner {\n    border: 2px solid var(--fill-color);\n    border-color: transparent;\n    border-bottom-color: var(--fill-color);\n    animation:\n      spin 1s steps(1) infinite;\n  }\n\n  @keyframes spin {\n    0% {\n      border-color: transparent;\n      border-bottom-color: var(--fill-color);\n      border-left-color: var(--fill-color);\n    }\n    20% {\n      border-color: transparent;\n      border-left-color: var(--fill-color);\n      border-top-color: var(--fill-color);\n    }\n    30% {\n      border-color: transparent;\n      border-left-color: var(--fill-color);\n      border-top-color: var(--fill-color);\n      border-right-color: var(--fill-color);\n    }\n    40% {\n      border-color: transparent;\n      border-right-color: var(--fill-color);\n      border-top-color: var(--fill-color);\n    }\n    60% {\n      border-color: transparent;\n      border-right-color: var(--fill-color);\n    }\n    80% {\n      border-color: transparent;\n      border-right-color: var(--fill-color);\n      border-bottom-color: var(--fill-color);\n    }\n    90% {\n      border-color: transparent;\n      border-bottom-color: var(--fill-color);\n    }\n  }\n</style>\n\n  <script>\n    async function quickchart(key) {\n      const quickchartButtonEl =\n        document.querySelector('#' + key + ' button');\n      quickchartButtonEl.disabled = true;  // To prevent multiple clicks.\n      quickchartButtonEl.classList.add('colab-df-spinner');\n      try {\n        const charts = await google.colab.kernel.invokeFunction(\n            'suggestCharts', [key], {});\n      } catch (error) {\n        console.error('Error during call to suggestCharts:', error);\n      }\n      quickchartButtonEl.classList.remove('colab-df-spinner');\n      quickchartButtonEl.classList.add('colab-df-quickchart-complete');\n    }\n    (() => {\n      let quickchartButtonEl =\n        document.querySelector('#df-3fdb097a-702c-4a3a-b790-6b5c2c0e6321 button');\n      quickchartButtonEl.style.display =\n        google.colab.kernel.accessAllowed ? 'block' : 'none';\n    })();\n  </script>\n</div>\n\n    </div>\n  </div>\n",
                  "application/vnd.google.colaboratory.intrinsic+json": {
                    "type": "dataframe",
                    "repr_error": "0"
                  }
                },
                "metadata": {}
              }
            ]
          }
        },
        "1424303f90914cba82ca3dca25ca8064": {
          "model_module": "@jupyter-widgets/base",
          "model_name": "LayoutModel",
          "model_module_version": "1.2.0",
          "state": {
            "_model_module": "@jupyter-widgets/base",
            "_model_module_version": "1.2.0",
            "_model_name": "LayoutModel",
            "_view_count": null,
            "_view_module": "@jupyter-widgets/base",
            "_view_module_version": "1.2.0",
            "_view_name": "LayoutView",
            "align_content": null,
            "align_items": null,
            "align_self": null,
            "border": null,
            "bottom": null,
            "display": null,
            "flex": null,
            "flex_flow": null,
            "grid_area": null,
            "grid_auto_columns": null,
            "grid_auto_flow": null,
            "grid_auto_rows": null,
            "grid_column": null,
            "grid_gap": null,
            "grid_row": null,
            "grid_template_areas": null,
            "grid_template_columns": null,
            "grid_template_rows": null,
            "height": null,
            "justify_content": null,
            "justify_items": null,
            "left": null,
            "margin": null,
            "max_height": null,
            "max_width": null,
            "min_height": null,
            "min_width": null,
            "object_fit": null,
            "object_position": null,
            "order": null,
            "overflow": null,
            "overflow_x": null,
            "overflow_y": null,
            "padding": null,
            "right": null,
            "top": null,
            "visibility": null,
            "width": null
          }
        }
      }
    }
  },
  "cells": [
    {
      "cell_type": "markdown",
      "metadata": {
        "id": "view-in-github",
        "colab_type": "text"
      },
      "source": [
        "<a href=\"https://colab.research.google.com/github/enurteagaa/datos_contamaz/blob/main/Copia_de_demo5.ipynb\" target=\"_parent\"><img src=\"https://colab.research.google.com/assets/colab-badge.svg\" alt=\"Open In Colab\"/></a>"
      ]
    },
    {
      "cell_type": "markdown",
      "source": [
        "Para conocer mejor la temática de las libretas, elabramos un indice donde anotamos las características mas importantes de las libretas (LIBRETA, TITULO, PÁGINAS, PERSONAJESY LUGARES). Para estandarizar la data y que esta pese lo menos posible, lo grabamos en un archivo svc. Sin embargo, al no obtener un codigo funcional, optamos por utilizar una hoja de cálculo."
      ],
      "metadata": {
        "id": "tYmVBzU-r9Vt"
      }
    },
    {
      "cell_type": "code",
      "execution_count": null,
      "metadata": {
        "colab": {
          "base_uri": "https://localhost:8080/",
          "height": 74
        },
        "id": "SuMQCPMKp0HP",
        "outputId": "9f967a37-4f22-4d36-d5ab-39c29bd4634b"
      },
      "outputs": [
        {
          "output_type": "display_data",
          "data": {
            "text/plain": [
              "<IPython.core.display.HTML object>"
            ],
            "text/html": [
              "\n",
              "     <input type=\"file\" id=\"files-71ce263b-e554-4d63-a822-7eb62bec89d0\" name=\"files[]\" multiple disabled\n",
              "        style=\"border:none\" />\n",
              "     <output id=\"result-71ce263b-e554-4d63-a822-7eb62bec89d0\">\n",
              "      Upload widget is only available when the cell has been executed in the\n",
              "      current browser session. Please rerun this cell to enable.\n",
              "      </output>\n",
              "      <script>// Copyright 2017 Google LLC\n",
              "//\n",
              "// Licensed under the Apache License, Version 2.0 (the \"License\");\n",
              "// you may not use this file except in compliance with the License.\n",
              "// You may obtain a copy of the License at\n",
              "//\n",
              "//      http://www.apache.org/licenses/LICENSE-2.0\n",
              "//\n",
              "// Unless required by applicable law or agreed to in writing, software\n",
              "// distributed under the License is distributed on an \"AS IS\" BASIS,\n",
              "// WITHOUT WARRANTIES OR CONDITIONS OF ANY KIND, either express or implied.\n",
              "// See the License for the specific language governing permissions and\n",
              "// limitations under the License.\n",
              "\n",
              "/**\n",
              " * @fileoverview Helpers for google.colab Python module.\n",
              " */\n",
              "(function(scope) {\n",
              "function span(text, styleAttributes = {}) {\n",
              "  const element = document.createElement('span');\n",
              "  element.textContent = text;\n",
              "  for (const key of Object.keys(styleAttributes)) {\n",
              "    element.style[key] = styleAttributes[key];\n",
              "  }\n",
              "  return element;\n",
              "}\n",
              "\n",
              "// Max number of bytes which will be uploaded at a time.\n",
              "const MAX_PAYLOAD_SIZE = 100 * 1024;\n",
              "\n",
              "function _uploadFiles(inputId, outputId) {\n",
              "  const steps = uploadFilesStep(inputId, outputId);\n",
              "  const outputElement = document.getElementById(outputId);\n",
              "  // Cache steps on the outputElement to make it available for the next call\n",
              "  // to uploadFilesContinue from Python.\n",
              "  outputElement.steps = steps;\n",
              "\n",
              "  return _uploadFilesContinue(outputId);\n",
              "}\n",
              "\n",
              "// This is roughly an async generator (not supported in the browser yet),\n",
              "// where there are multiple asynchronous steps and the Python side is going\n",
              "// to poll for completion of each step.\n",
              "// This uses a Promise to block the python side on completion of each step,\n",
              "// then passes the result of the previous step as the input to the next step.\n",
              "function _uploadFilesContinue(outputId) {\n",
              "  const outputElement = document.getElementById(outputId);\n",
              "  const steps = outputElement.steps;\n",
              "\n",
              "  const next = steps.next(outputElement.lastPromiseValue);\n",
              "  return Promise.resolve(next.value.promise).then((value) => {\n",
              "    // Cache the last promise value to make it available to the next\n",
              "    // step of the generator.\n",
              "    outputElement.lastPromiseValue = value;\n",
              "    return next.value.response;\n",
              "  });\n",
              "}\n",
              "\n",
              "/**\n",
              " * Generator function which is called between each async step of the upload\n",
              " * process.\n",
              " * @param {string} inputId Element ID of the input file picker element.\n",
              " * @param {string} outputId Element ID of the output display.\n",
              " * @return {!Iterable<!Object>} Iterable of next steps.\n",
              " */\n",
              "function* uploadFilesStep(inputId, outputId) {\n",
              "  const inputElement = document.getElementById(inputId);\n",
              "  inputElement.disabled = false;\n",
              "\n",
              "  const outputElement = document.getElementById(outputId);\n",
              "  outputElement.innerHTML = '';\n",
              "\n",
              "  const pickedPromise = new Promise((resolve) => {\n",
              "    inputElement.addEventListener('change', (e) => {\n",
              "      resolve(e.target.files);\n",
              "    });\n",
              "  });\n",
              "\n",
              "  const cancel = document.createElement('button');\n",
              "  inputElement.parentElement.appendChild(cancel);\n",
              "  cancel.textContent = 'Cancel upload';\n",
              "  const cancelPromise = new Promise((resolve) => {\n",
              "    cancel.onclick = () => {\n",
              "      resolve(null);\n",
              "    };\n",
              "  });\n",
              "\n",
              "  // Wait for the user to pick the files.\n",
              "  const files = yield {\n",
              "    promise: Promise.race([pickedPromise, cancelPromise]),\n",
              "    response: {\n",
              "      action: 'starting',\n",
              "    }\n",
              "  };\n",
              "\n",
              "  cancel.remove();\n",
              "\n",
              "  // Disable the input element since further picks are not allowed.\n",
              "  inputElement.disabled = true;\n",
              "\n",
              "  if (!files) {\n",
              "    return {\n",
              "      response: {\n",
              "        action: 'complete',\n",
              "      }\n",
              "    };\n",
              "  }\n",
              "\n",
              "  for (const file of files) {\n",
              "    const li = document.createElement('li');\n",
              "    li.append(span(file.name, {fontWeight: 'bold'}));\n",
              "    li.append(span(\n",
              "        `(${file.type || 'n/a'}) - ${file.size} bytes, ` +\n",
              "        `last modified: ${\n",
              "            file.lastModifiedDate ? file.lastModifiedDate.toLocaleDateString() :\n",
              "                                    'n/a'} - `));\n",
              "    const percent = span('0% done');\n",
              "    li.appendChild(percent);\n",
              "\n",
              "    outputElement.appendChild(li);\n",
              "\n",
              "    const fileDataPromise = new Promise((resolve) => {\n",
              "      const reader = new FileReader();\n",
              "      reader.onload = (e) => {\n",
              "        resolve(e.target.result);\n",
              "      };\n",
              "      reader.readAsArrayBuffer(file);\n",
              "    });\n",
              "    // Wait for the data to be ready.\n",
              "    let fileData = yield {\n",
              "      promise: fileDataPromise,\n",
              "      response: {\n",
              "        action: 'continue',\n",
              "      }\n",
              "    };\n",
              "\n",
              "    // Use a chunked sending to avoid message size limits. See b/62115660.\n",
              "    let position = 0;\n",
              "    do {\n",
              "      const length = Math.min(fileData.byteLength - position, MAX_PAYLOAD_SIZE);\n",
              "      const chunk = new Uint8Array(fileData, position, length);\n",
              "      position += length;\n",
              "\n",
              "      const base64 = btoa(String.fromCharCode.apply(null, chunk));\n",
              "      yield {\n",
              "        response: {\n",
              "          action: 'append',\n",
              "          file: file.name,\n",
              "          data: base64,\n",
              "        },\n",
              "      };\n",
              "\n",
              "      let percentDone = fileData.byteLength === 0 ?\n",
              "          100 :\n",
              "          Math.round((position / fileData.byteLength) * 100);\n",
              "      percent.textContent = `${percentDone}% done`;\n",
              "\n",
              "    } while (position < fileData.byteLength);\n",
              "  }\n",
              "\n",
              "  // All done.\n",
              "  yield {\n",
              "    response: {\n",
              "      action: 'complete',\n",
              "    }\n",
              "  };\n",
              "}\n",
              "\n",
              "scope.google = scope.google || {};\n",
              "scope.google.colab = scope.google.colab || {};\n",
              "scope.google.colab._files = {\n",
              "  _uploadFiles,\n",
              "  _uploadFilesContinue,\n",
              "};\n",
              "})(self);\n",
              "</script> "
            ]
          },
          "metadata": {}
        },
        {
          "output_type": "stream",
          "name": "stdout",
          "text": [
            "Saving g4_datos_Contamaz.xlsx to g4_datos_Contamaz.xlsx\n"
          ]
        }
      ],
      "source": [
        "from google.colab import files\n",
        "\n",
        "uploaded = files.upload()  # Esto abrirá una ventana para subir archivos. En este caso el la Hoja de calculo\n"
      ]
    },
    {
      "cell_type": "markdown",
      "source": [
        "FRECUENCIA= numero de veces que aparece el tema en el conjunto de libretas\n",
        "\n"
      ],
      "metadata": {
        "id": "rS2t80KivrgJ"
      }
    },
    {
      "cell_type": "code",
      "source": [
        "from collections import Counter\n",
        "\n",
        "# Unir todos los temas de las libretas\n",
        "todos_los_temas = []\n",
        "\n",
        "for hoja in datos.keys():\n",
        "    todos_los_temas.extend(datos[hoja][\"TEMA\"].dropna())  # Eliminar valores nulos\n",
        "\n",
        "# Contar frecuencia de temas\n",
        "conteo_temas = Counter(todos_los_temas)\n",
        "\n",
        "# Convertir a DataFrame\n",
        "df_temas = pd.DataFrame(conteo_temas.items(), columns=[\"TEMA\", \"FRECUENCIA\"]).sort_values(by=\"FRECUENCIA\", ascending=False)\n",
        "\n",
        "# Mostrar los temas más frecuentes\n",
        "print(df_temas.head(10))\n"
      ],
      "metadata": {
        "colab": {
          "base_uri": "https://localhost:8080/"
        },
        "id": "1IwyXTTXqMn4",
        "outputId": "0ea1b57b-d4ac-48d5-d66b-766c01d2b764"
      },
      "execution_count": null,
      "outputs": [
        {
          "output_type": "stream",
          "name": "stdout",
          "text": [
            "                   TEMA  FRECUENCIA\n",
            "2              Economía          62\n",
            "14           Genealogía          41\n",
            "9              Historia          25\n",
            "10              Opinión          25\n",
            "11            Geografía           9\n",
            "1              Ciencias           6\n",
            "7            Literatura           6\n",
            "13          Gastronomía           4\n",
            "3   Legislación laboral           3\n",
            "12             Medicina           3\n"
          ]
        }
      ]
    },
    {
      "cell_type": "markdown",
      "source": [
        "RELACION ENTRE TEMAS PERSONAJES Y LUGARES\n",
        "Revisa- error/ Iquitos"
      ],
      "metadata": {
        "id": "6u9SOYDUwCkn"
      }
    },
    {
      "cell_type": "code",
      "source": [
        "import networkx as nx\n",
        "import matplotlib.pyplot as plt\n",
        "\n",
        "G = nx.Graph()\n",
        "\n",
        "# Agregar nodos y relaciones\n",
        "for hoja in datos.keys():\n",
        "    df = datos[hoja]\n",
        "    for _, fila in df.iterrows():\n",
        "        tema = fila[\"TEMA\"]\n",
        "        personajes = str(fila[\"PERSONAJES MENCIONADOS\"]).split(\",\") if pd.notna(fila[\"PERSONAJES MENCIONADOS\"]) else []\n",
        "        lugares = str(fila[\"LUGARES MENCIONADOS\"]).split(\",\") if pd.notna(fila[\"LUGARES MENCIONADOS\"]) else []\n",
        "\n",
        "        G.add_node(tema, tipo=\"TEMA\")\n",
        "        for personaje in personajes:\n",
        "            G.add_node(personaje.strip(), tipo=\"PERSONAJE\")\n",
        "            G.add_edge(tema, personaje.strip())\n",
        "        for lugar in lugares:\n",
        "            G.add_node(lugar.strip(), tipo=\"LUGAR\")\n",
        "            G.add_edge(tema, lugar.strip())\n",
        "\n",
        "# Dibujar el grafo\n",
        "plt.figure(figsize=(12, 8))\n",
        "nx.draw(G, with_labels=True, node_color=\"lightblue\", edge_color=\"gray\", node_size=2000, font_size=10)\n",
        "plt.title(\"Grafo de Relaciones entre Temas, Personajes y Lugares\")\n",
        "plt.show()\n"
      ],
      "metadata": {
        "colab": {
          "base_uri": "https://localhost:8080/",
          "height": 859
        },
        "id": "-oZMuzPeqcPQ",
        "outputId": "a4311213-ac8d-4f7f-eff8-e972352a21ec"
      },
      "execution_count": null,
      "outputs": [
        {
          "output_type": "display_data",
          "data": {
            "text/plain": [
              "<Figure size 1200x800 with 1 Axes>"
            ],
            "image/png": "[encoded data removed]"
          },
          "metadata": {}
        }
      ]
    },
    {
      "cell_type": "code",
      "source": [
        "from itertools import combinations\n",
        "\n",
        "co_ocurrencias = Counter()\n",
        "\n",
        "for hoja in datos.keys():\n",
        "    df = datos[hoja]\n",
        "    for _, fila in df.iterrows():\n",
        "        elementos = set()\n",
        "        if pd.notna(fila[\"TEMA\"]):\n",
        "            elementos.add(fila[\"TEMA\"])\n",
        "        if pd.notna(fila[\"PERSONAJES MENCIONADOS\"]):\n",
        "            elementos.update(map(str.strip, fila[\"PERSONAJES MENCIONADOS\"].split(\",\")))\n",
        "        if pd.notna(fila[\"LUGARES MENCIONADOS\"]):\n",
        "            elementos.update(map(str.strip, fila[\"LUGARES MENCIONADOS\"].split(\",\")))\n",
        "\n",
        "        for par in combinations(elementos, 2):\n",
        "            co_ocurrencias[par] += 1\n",
        "\n",
        "# Mostrar las co-ocurrencias más frecuentes\n",
        "print(co_ocurrencias.most_common(10))\n"
      ],
      "metadata": {
        "colab": {
          "base_uri": "https://localhost:8080/"
        },
        "id": "iZ--13RBqq5Y",
        "outputId": "d9a2a479-e6fa-469a-bed9-d4672f749dc4"
      },
      "execution_count": null,
      "outputs": [
        {
          "output_type": "stream",
          "name": "stdout",
          "text": [
            "[(('Iquitos', 'Economía'), 12)]\n"
          ]
        }
      ]
    },
    {
      "cell_type": "code",
      "source": [
        "plt.figure(figsize=(12, 6))\n",
        "sns.barplot(x=df_temas[\"TEMA\"][:10], y=df_temas[\"FRECUENCIA\"][:10], palette=\"viridis\")\n",
        "plt.xticks(rotation=45)\n",
        "plt.title(\"Frecuencia de los Temas\")\n",
        "plt.xlabel(\"Tema\")\n",
        "plt.ylabel(\"Frecuencia\")\n",
        "plt.show()\n"
      ],
      "metadata": {
        "colab": {
          "base_uri": "https://localhost:8080/",
          "height": 742
        },
        "id": "TeD9fzyKqzXV",
        "outputId": "7c56c23e-f153-4818-fa92-d030a48cf974"
      },
      "execution_count": null,
      "outputs": [
        {
          "output_type": "stream",
          "name": "stderr",
          "text": [
            "<ipython-input-9-55149d5fe55e>:2: FutureWarning: \n",
            "\n",
            "Passing `palette` without assigning `hue` is deprecated and will be removed in v0.14.0. Assign the `x` variable to `hue` and set `legend=False` for the same effect.\n",
            "\n",
            "  sns.barplot(x=df_temas[\"TEMA\"][:10], y=df_temas[\"FRECUENCIA\"][:10], palette=\"viridis\")\n"
          ]
        },
        {
          "output_type": "display_data",
          "data": {
            "text/plain": [
              "<Figure size 1200x600 with 1 Axes>"
            ],
            "image/png": "[encoded data removed]"
          },
          "metadata": {}
        }
      ]
    },
    {
      "cell_type": "code",
      "source": [
        "import folium\n",
        "from geopy.geocoders import Nominatim\n",
        "\n",
        "geolocalizador = Nominatim(user_agent=\"geoapi\")\n",
        "mapa = folium.Map(location=[-9, -75], zoom_start=6)  # Coordenadas aproximadas de Perú\n",
        "\n",
        "lugares_unicos = set()\n",
        "\n",
        "for hoja in datos.keys():\n",
        "    df = datos[hoja]\n",
        "    for lugar in df[\"LUGARES MENCIONADOS\"].dropna():\n",
        "        lugares_unicos.update(map(str.strip, lugar.split(\",\")))\n",
        "\n",
        "for lugar in lugares_unicos:\n",
        "    try:\n",
        "        ubicacion = geolocalizador.geocode(lugar)\n",
        "        if ubicacion:\n",
        "            folium.Marker([ubicacion.latitude, ubicacion.longitude], popup=lugar).add_to(mapa)\n",
        "    except:\n",
        "        pass  # Si un lugar no se encuentra, lo ignoramos\n",
        "\n",
        "mapa\n"
      ],
      "metadata": {
        "colab": {
          "base_uri": "https://localhost:8080/",
          "height": 813
        },
        "id": "sytO6sY0q4V9",
        "outputId": "9782bc4d-59cc-4438-b9e4-ec19c928c3d6"
      },
      "execution_count": null,
      "outputs": [
        {
          "output_type": "execute_result",
          "data": {
            "text/plain": [
              "<folium.folium.Map at 0x792acc01dc90>"
            ],
            "text/html": [
              "<div style=\"width:100%;\"><div style=\"position:relative;width:100%;height:0;padding-bottom:60%;\"><span style=\"color:#565656\">Make this Notebook Trusted to load map: File -> Trust Notebook</span><iframe srcdoc=\"&lt;!DOCTYPE html&gt;\n",
              "&lt;html&gt;\n",
              "&lt;head&gt;\n",
              "    \n",
              "    &lt;meta http-equiv=&quot;content-type&quot; content=&quot;text/html; charset=UTF-8&quot; /&gt;\n",
              "    \n",
              "        &lt;script&gt;\n",
              "            L_NO_TOUCH = false;\n",
              "            L_DISABLE_3D = false;\n",
              "        &lt;/script&gt;\n",
              "    \n",
              "    &lt;style&gt;html, body {width: 100%;height: 100%;margin: 0;padding: 0;}&lt;/style&gt;\n",
              "    &lt;style&gt;#map {position:absolute;top:0;bottom:0;right:0;left:0;}&lt;/style&gt;\n",
              "    &lt;script src=&quot;https://cdn.jsdelivr.net/npm/leaflet@1.9.3/dist/leaflet.js&quot;&gt;&lt;/script&gt;\n",
              "    &lt;script src=&quot;https://code.jquery.com/jquery-3.7.1.min.js&quot;&gt;&lt;/script&gt;\n",
              "    &lt;script src=&quot;https://cdn.jsdelivr.net/npm/bootstrap@5.2.2/dist/js/bootstrap.bundle.min.js&quot;&gt;&lt;/script&gt;\n",
              "    &lt;script src=&quot;https://cdnjs.cloudflare.com/ajax/libs/Leaflet.awesome-markers/2.0.2/leaflet.awesome-markers.js&quot;&gt;&lt;/script&gt;\n",
              "    &lt;link rel=&quot;stylesheet&quot; href=&quot;https://cdn.jsdelivr.net/npm/leaflet@1.9.3/dist/leaflet.css&quot;/&gt;\n",
              "    &lt;link rel=&quot;stylesheet&quot; href=&quot;https://cdn.jsdelivr.net/npm/bootstrap@5.2.2/dist/css/bootstrap.min.css&quot;/&gt;\n",
              "    &lt;link rel=&quot;stylesheet&quot; href=&quot;https://netdna.bootstrapcdn.com/bootstrap/3.0.0/css/bootstrap-glyphicons.css&quot;/&gt;\n",
              "    &lt;link rel=&quot;stylesheet&quot; href=&quot;https://cdn.jsdelivr.net/npm/@fortawesome/fontawesome-free@6.2.0/css/all.min.css&quot;/&gt;\n",
              "    &lt;link rel=&quot;stylesheet&quot; href=&quot;https://cdnjs.cloudflare.com/ajax/libs/Leaflet.awesome-markers/2.0.2/leaflet.awesome-markers.css&quot;/&gt;\n",
              "    &lt;link rel=&quot;stylesheet&quot; href=&quot;https://cdn.jsdelivr.net/gh/python-visualization/folium/folium/templates/leaflet.awesome.rotate.min.css&quot;/&gt;\n",
              "    \n",
              "            &lt;meta name=&quot;viewport&quot; content=&quot;width=device-width,\n",
              "                initial-scale=1.0, maximum-scale=1.0, user-scalable=no&quot; /&gt;\n",
              "            &lt;style&gt;\n",
              "                #map_9e4caf20031fd8f584e252a4c3cfc382 {\n",
              "                    position: relative;\n",
              "                    width: 100.0%;\n",
              "                    height: 100.0%;\n",
              "                    left: 0.0%;\n",
              "                    top: 0.0%;\n",
              "                }\n",
              "                .leaflet-container { font-size: 1rem; }\n",
              "            &lt;/style&gt;\n",
              "        \n",
              "&lt;/head&gt;\n",
              "&lt;body&gt;\n",
              "    \n",
              "    \n",
              "            &lt;div class=&quot;folium-map&quot; id=&quot;map_9e4caf20031fd8f584e252a4c3cfc382&quot; &gt;&lt;/div&gt;\n",
              "        \n",
              "&lt;/body&gt;\n",
              "&lt;script&gt;\n",
              "    \n",
              "    \n",
              "            var map_9e4caf20031fd8f584e252a4c3cfc382 = L.map(\n",
              "                &quot;map_9e4caf20031fd8f584e252a4c3cfc382&quot;,\n",
              "                {\n",
              "                    center: [-9.0, -75.0],\n",
              "                    crs: L.CRS.EPSG3857,\n",
              "                    ...{\n",
              "  &quot;zoom&quot;: 6,\n",
              "  &quot;zoomControl&quot;: true,\n",
              "  &quot;preferCanvas&quot;: false,\n",
              "}\n",
              "\n",
              "                }\n",
              "            );\n",
              "\n",
              "            \n",
              "\n",
              "        \n",
              "    \n",
              "            var tile_layer_7bc2d2341b2f6f380dfa5ccd1a29c5df = L.tileLayer(\n",
              "                &quot;https://tile.openstreetmap.org/{z}/{x}/{y}.png&quot;,\n",
              "                {\n",
              "  &quot;minZoom&quot;: 0,\n",
              "  &quot;maxZoom&quot;: 19,\n",
              "  &quot;maxNativeZoom&quot;: 19,\n",
              "  &quot;noWrap&quot;: false,\n",
              "  &quot;attribution&quot;: &quot;\\u0026copy; \\u003ca href=\\&quot;https://www.openstreetmap.org/copyright\\&quot;\\u003eOpenStreetMap\\u003c/a\\u003e contributors&quot;,\n",
              "  &quot;subdomains&quot;: &quot;abc&quot;,\n",
              "  &quot;detectRetina&quot;: false,\n",
              "  &quot;tms&quot;: false,\n",
              "  &quot;opacity&quot;: 1,\n",
              "}\n",
              "\n",
              "            );\n",
              "        \n",
              "    \n",
              "            tile_layer_7bc2d2341b2f6f380dfa5ccd1a29c5df.addTo(map_9e4caf20031fd8f584e252a4c3cfc382);\n",
              "        \n",
              "    \n",
              "            var marker_7c5a6c0266d831e74a7b593c17b6112c = L.marker(\n",
              "                [-3.749365, -73.2444145],\n",
              "                {\n",
              "}\n",
              "            ).addTo(map_9e4caf20031fd8f584e252a4c3cfc382);\n",
              "        \n",
              "    \n",
              "        var popup_df184780c96381b490f15d0f26ec6ce9 = L.popup({\n",
              "  &quot;maxWidth&quot;: &quot;100%&quot;,\n",
              "});\n",
              "\n",
              "        \n",
              "            \n",
              "                var html_9e2ed96521cb26fc4995b4e0557f29dc = $(`&lt;div id=&quot;html_9e2ed96521cb26fc4995b4e0557f29dc&quot; style=&quot;width: 100.0%; height: 100.0%;&quot;&gt;Iquitos&lt;/div&gt;`)[0];\n",
              "                popup_df184780c96381b490f15d0f26ec6ce9.setContent(html_9e2ed96521cb26fc4995b4e0557f29dc);\n",
              "            \n",
              "        \n",
              "\n",
              "        marker_7c5a6c0266d831e74a7b593c17b6112c.bindPopup(popup_df184780c96381b490f15d0f26ec6ce9)\n",
              "        ;\n",
              "\n",
              "        \n",
              "    \n",
              "&lt;/script&gt;\n",
              "&lt;/html&gt;\" style=\"position:absolute;width:100%;height:100%;left:0;top:0;border:none !important;\" allowfullscreen webkitallowfullscreen mozallowfullscreen></iframe></div></div>"
            ]
          },
          "metadata": {},
          "execution_count": 10
        }
      ]
    },
    {
      "cell_type": "code",
      "source": [
        "import pandas as pd\n",
        "import ipywidgets as widgets\n",
        "from IPython.display import display, clear_output\n"
      ],
      "metadata": {
        "id": "M11OZoN4zZi6"
      },
      "execution_count": null,
      "outputs": []
    },
    {
      "cell_type": "code",
      "source": [
        "# Cargar el archivo Excel\n",
        "archivo = \"g4_datos_Contamaz.xlsx\"  # Cambia esto por el nombre exacto de tu archivo\n",
        "xls = pd.ExcelFile(archivo)\n",
        "\n",
        "# Cargar todas las hojas en un diccionario de DataFrames\n",
        "datos = {hoja: xls.parse(hoja) for hoja in xls.sheet_names}\n"
      ],
      "metadata": {
        "id": "M3Slj-LXzesn"
      },
      "execution_count": null,
      "outputs": []
    },
    {
      "cell_type": "code",
      "source": [
        "# Crear un widget de selección para escoger la libreta\n",
        "libreta_selector = widgets.Dropdown(\n",
        "    options=xls.sheet_names,  # Lista de libretas en el archivo\n",
        "    description=\"Libreta:\",\n",
        "    style={'description_width': 'initial'}\n",
        ")\n",
        "\n",
        "# Crear un widget de selección de temas (se llenará dinámicamente)\n",
        "tema_selector = widgets.Dropdown(\n",
        "    options=[],  # Se actualizará al escoger una libreta\n",
        "    description=\"Tema:\",\n",
        "    style={'description_width': 'initial'}\n",
        ")\n",
        "\n",
        "# Botón para mostrar los resultados\n",
        "boton_mostrar = widgets.Button(description=\"Mostrar Resultados\")\n",
        "\n",
        "# Output para mostrar los resultados\n",
        "output = widgets.Output()\n"
      ],
      "metadata": {
        "id": "Rx2iAYpYzhLW"
      },
      "execution_count": null,
      "outputs": []
    },
    {
      "cell_type": "code",
      "source": [
        "# Función que actualiza los temas cuando se cambia la libreta\n",
        "def actualizar_temas(*args):\n",
        "    libreta_elegida = libreta_selector.value\n",
        "    temas_disponibles = sorted(datos[libreta_elegida][\"TEMA\"].dropna().unique())  # Obtener temas únicos\n",
        "    tema_selector.options = temas_disponibles if temas_disponibles else [\"(Sin temas disponibles)\"]\n",
        "\n",
        "# Conectar el cambio de libreta con la actualización de temas\n",
        "libreta_selector.observe(actualizar_temas, names=\"value\")\n",
        "\n",
        "# Llamamos la función una vez para inicializar los temas\n",
        "actualizar_temas()\n"
      ],
      "metadata": {
        "id": "XeXEUg3mzlys"
      },
      "execution_count": null,
      "outputs": []
    },
    {
      "cell_type": "code",
      "source": [
        "# Función para mostrar los resultados al presionar el botón\n",
        "def mostrar_resultados(b):\n",
        "    with output:\n",
        "        clear_output(wait=True)  # Limpiar salida previa\n",
        "\n",
        "        libreta_elegida = libreta_selector.value\n",
        "        tema_elegido = tema_selector.value\n",
        "\n",
        "        # Filtrar los datos según la selección\n",
        "        df_filtrado = datos[libreta_elegida][datos[libreta_elegida][\"TEMA\"] == tema_elegido]\n",
        "\n",
        "        # Mostrar el resultado\n",
        "        display(df_filtrado)\n",
        "\n",
        "# Asociar la función al botón\n",
        "boton_mostrar.on_click(mostrar_resultados)\n"
      ],
      "metadata": {
        "id": "UauxDc8Rzokj"
      },
      "execution_count": null,
      "outputs": []
    },
    {
      "cell_type": "code",
      "source": [
        "# Mostrar los widgets en la interfaz\n",
        "display(libreta_selector, tema_selector, boton_mostrar, output)\n"
      ],
      "metadata": {
        "colab": {
          "base_uri": "https://localhost:8080/",
          "height": 928,
          "referenced_widgets": [
            "557060549fe348008fa5d62e743f791d",
            "80a28e93d37c4dd0b74db76a616acad4",
            "7ce7d671ec9246c987cd9783c7dfd24f",
            "3587fc7e2d6e497cb0198e47d96c0a7c",
            "51fe041550644327bdac7512da352e6f",
            "a5f5f598d4ca4b11b8f045433eecbeb8",
            "842e8a332a164573b0813265144b2d23",
            "a0bd0b78fec643259ceb3e26f2be1929",
            "481d2083ef8c4d78a872e048c11de861",
            "18dd2d9464974b01b30b9867dba56278",
            "1424303f90914cba82ca3dca25ca8064"
          ]
        },
        "id": "uPw7JPcazqII",
        "outputId": "a9effb36-f1df-48c4-ade3-dcdd421d6e57"
      },
      "execution_count": null,
      "outputs": [
        {
          "output_type": "display_data",
          "data": {
            "text/plain": [
              "Dropdown(description='Libreta:', options=('Hoja1',), style=DescriptionStyle(description_width='initial'), valu…"
            ],
            "application/vnd.jupyter.widget-view+json": {
              "version_major": 2,
              "version_minor": 0,
              "model_id": "557060549fe348008fa5d62e743f791d"
            }
          },
          "metadata": {}
        },
        {
          "output_type": "display_data",
          "data": {
            "text/plain": [
              "Dropdown(description='Tema:', options=('Artes', 'Ciencias', 'Economía', 'Gastronomía', 'Genealogía', 'Geografí…"
            ],
            "application/vnd.jupyter.widget-view+json": {
              "version_major": 2,
              "version_minor": 0,
              "model_id": "3587fc7e2d6e497cb0198e47d96c0a7c"
            }
          },
          "metadata": {}
        },
        {
          "output_type": "display_data",
          "data": {
            "text/plain": [
              "Button(description='Mostrar Resultados', style=ButtonStyle())"
            ],
            "application/vnd.jupyter.widget-view+json": {
              "version_major": 2,
              "version_minor": 0,
              "model_id": "842e8a332a164573b0813265144b2d23"
            }
          },
          "metadata": {}
        },
        {
          "output_type": "display_data",
          "data": {
            "text/plain": [
              "Output()"
            ],
            "application/vnd.jupyter.widget-view+json": {
              "version_major": 2,
              "version_minor": 0,
              "model_id": "18dd2d9464974b01b30b9867dba56278"
            }
          },
          "metadata": {}
        }
      ]
    }
  ]
}